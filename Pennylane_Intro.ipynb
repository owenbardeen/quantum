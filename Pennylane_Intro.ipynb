{
 "cells": [
  {
   "cell_type": "code",
   "execution_count": 1,
   "id": "fe22eb74",
   "metadata": {},
   "outputs": [],
   "source": [
    "import pennylane as qml\n",
    "from pennylane import numpy as np"
   ]
  },
  {
   "cell_type": "markdown",
   "id": "d70ba6b5",
   "metadata": {},
   "source": [
    "(Mostly from pennylane intro tutorials)\n",
    "In this Pennylane intro, we will be optimizing two rotation matrices that flip a 0 state into a 1 state.\n",
    "We will apply two rotation gates to our initial 0 state and measure the expectation value of the Pauli-Z operator. Why we use the Pauli-Z operator will become apparent later."
   ]
  },
  {
   "cell_type": "code",
   "execution_count": 2,
   "id": "d29a7973",
   "metadata": {},
   "outputs": [],
   "source": [
    "dev1 = qml.device(\"default.qubit\", wires=1)\n",
    "@qml.qnode(dev1)\n",
    "def circuit(params):\n",
    "    qml.RX(params[0], wires=0)\n",
    "    qml.RY(params[1], wires=0)\n",
    "    return qml.expval(qml.PauliZ(0))"
   ]
  },
  {
   "cell_type": "markdown",
   "id": "5dffc681",
   "metadata": {},
   "source": [
    "Now that we have our circuit set up, we need to define a loss function to minimize. \n",
    "Due to the way we have constructed our circuit, we can just use the output of our circuit as our loss function. We can do this because if our rotations successfully produce a 1 state, our output will be -1. If it produces a 0 state, our output will be 1. Minimizing loss, therefore, will yield a circuit that outputs -1 and therefore produces a 1 state.\n",
    "\n",
    "We will use gradient descent in order to optimize our circuit."
   ]
  },
  {
   "cell_type": "code",
   "execution_count": 3,
   "id": "251a4611",
   "metadata": {},
   "outputs": [],
   "source": [
    "dcircuit = qml.grad(circuit, argnum=0)"
   ]
  },
  {
   "cell_type": "code",
   "execution_count": 4,
   "id": "b30703ec",
   "metadata": {},
   "outputs": [
    {
     "name": "stdout",
     "output_type": "stream",
     "text": [
      "Cost after step     5:  0.9961778\n",
      "Cost after step    10:  0.8974944\n",
      "Cost after step    15:  0.1440490\n",
      "Cost after step    20: -0.1536720\n",
      "Cost after step    25: -0.9152496\n",
      "Cost after step    30: -0.9994046\n",
      "Cost after step    35: -0.9999964\n",
      "Cost after step    40: -1.0000000\n",
      "Cost after step    45: -1.0000000\n",
      "Cost after step    50: -1.0000000\n",
      "Cost after step    55: -1.0000000\n",
      "Cost after step    60: -1.0000000\n",
      "Cost after step    65: -1.0000000\n",
      "Cost after step    70: -1.0000000\n",
      "Cost after step    75: -1.0000000\n",
      "Cost after step    80: -1.0000000\n",
      "Cost after step    85: -1.0000000\n",
      "Cost after step    90: -1.0000000\n",
      "Cost after step    95: -1.0000000\n",
      "Cost after step   100: -1.0000000\n",
      "Optimized rotation angles: [7.15266381e-18 3.14159265e+00]\n"
     ]
    }
   ],
   "source": [
    "def cost(x):\n",
    "    return circuit(x)\n",
    "\n",
    "init_params = np.array([0.01, 0.01], requires_grad=True)\n",
    "\n",
    "# initialise the optimizer\n",
    "opt = qml.GradientDescentOptimizer(stepsize=0.4)\n",
    "\n",
    "# set the number of steps\n",
    "steps = 100\n",
    "# set the initial parameter values\n",
    "params = init_params\n",
    "\n",
    "for i in range(steps):\n",
    "    # update the circuit parameters\n",
    "    params = opt.step(cost, params)\n",
    "\n",
    "    if (i + 1) % 5 == 0:\n",
    "        print(\"Cost after step {:5d}: {: .7f}\".format(i + 1, cost(params)))\n",
    "\n",
    "print(\"Optimized rotation angles: {}\".format(params))"
   ]
  },
  {
   "cell_type": "markdown",
   "id": "ed52dfaf",
   "metadata": {},
   "source": [
    "For a 0.4 step size, this converges after about 40 steps. Let's deviate from the pennylane tutorial and explore which step size converges the fastest."
   ]
  },
  {
   "cell_type": "code",
   "execution_count": 6,
   "id": "e9ceb631",
   "metadata": {},
   "outputs": [
    {
     "name": "stdout",
     "output_type": "stream",
     "text": [
      "Number of steps taken to completely converge: 81\n",
      "Number of steps taken to completely converge: 59\n",
      "Number of steps taken to completely converge: 46\n",
      "Number of steps taken to completely converge: 37\n",
      "Number of steps taken to completely converge: 30\n",
      "Number of steps taken to completely converge: 25\n",
      "Number of steps taken to completely converge: 21\n"
     ]
    }
   ],
   "source": [
    "stepsizes = [0.1, 0.2, 0.3, 0.4, 0.5, 0.6, 0.7, 0.8, 0.9]\n",
    "optimizers = [qml.GradientDescentOptimizer(stepsize=step) for step in stepsizes]\n",
    "\n",
    "steps = 100\n",
    "\n",
    "for optimizer in optimizers:\n",
    "    params = init_params\n",
    "    num = 0\n",
    "    for i in range(steps):\n",
    "        # update the circuit parameters\n",
    "        num += 1\n",
    "        params = optimizer.step(cost, params)\n",
    "\n",
    "        if cost(params) <= -1:\n",
    "            print(\"Number of steps taken to completely converge: \" + str(num))\n",
    "            break\n",
    "            "
   ]
  },
  {
   "cell_type": "markdown",
   "id": "8282f81b",
   "metadata": {},
   "source": [
    "Looks like in this case, larger stepsizes cause our algorithm to converge faster. This is not always the case, though."
   ]
  },
  {
   "cell_type": "code",
   "execution_count": null,
   "id": "76133d9f",
   "metadata": {},
   "outputs": [],
   "source": []
  }
 ],
 "metadata": {
  "kernelspec": {
   "display_name": "Python 3 (ipykernel)",
   "language": "python",
   "name": "python3"
  },
  "language_info": {
   "codemirror_mode": {
    "name": "ipython",
    "version": 3
   },
   "file_extension": ".py",
   "mimetype": "text/x-python",
   "name": "python",
   "nbconvert_exporter": "python",
   "pygments_lexer": "ipython3",
   "version": "3.9.13"
  }
 },
 "nbformat": 4,
 "nbformat_minor": 5
}
